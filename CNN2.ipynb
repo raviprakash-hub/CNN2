{
 "cells": [
  {
   "cell_type": "code",
   "execution_count": 2,
   "id": "e588ad23",
   "metadata": {},
   "outputs": [],
   "source": [
    "#importing libraries\n",
    "from keras.models import Sequential\n",
    "from keras.layers import Dense,Convolution2D,MaxPooling2D,Flatten"
   ]
  },
  {
   "cell_type": "code",
   "execution_count": 3,
   "id": "b790e333",
   "metadata": {},
   "outputs": [],
   "source": [
    "#Initializing CNN\n",
    "model=Sequential()"
   ]
  },
  {
   "cell_type": "code",
   "execution_count": 4,
   "id": "0b339a15",
   "metadata": {},
   "outputs": [],
   "source": [
    "#step1:Convolution\n",
    "model.add(Convolution2D(32,(3,3),input_shape=(64,64,3),activation='relu'))"
   ]
  },
  {
   "cell_type": "code",
   "execution_count": 5,
   "id": "828184c5",
   "metadata": {},
   "outputs": [],
   "source": [
    "#step2:maxpooling\n",
    "model.add(MaxPooling2D(pool_size=(2,2)))\n"
   ]
  },
  {
   "cell_type": "code",
   "execution_count": 6,
   "id": "cb842a5a",
   "metadata": {},
   "outputs": [],
   "source": [
    "#step3:flatten\n",
    "model.add(Flatten())"
   ]
  },
  {
   "cell_type": "code",
   "execution_count": 7,
   "id": "e64f065a",
   "metadata": {},
   "outputs": [],
   "source": [
    "#step4:full connection\n",
    "model.add(Dense(units=128,activation='relu'))"
   ]
  },
  {
   "cell_type": "code",
   "execution_count": 9,
   "id": "4eb67b1e",
   "metadata": {},
   "outputs": [],
   "source": [
    "#output\n",
    "model.add(Dense(units=3,activation='softmax',))\n",
    "\n",
    "model.compile(optimizer='adam',loss='categorical_crossentropy',metrics=['accuracy'])"
   ]
  },
  {
   "cell_type": "code",
   "execution_count": 10,
   "id": "11df97bd",
   "metadata": {},
   "outputs": [],
   "source": [
    "#Image Augmentation\n",
    "from keras.preprocessing.image import ImageDataGenerator\n",
    "\n",
    "train_gen=ImageDataGenerator(rescale=1./255,shear_range=0.2,zoom_range=0.2,horizontal_flip=True)\n",
    "\n",
    "test_gen=ImageDataGenerator(rescale=1./255)"
   ]
  },
  {
   "cell_type": "code",
   "execution_count": 11,
   "id": "2abda0c8",
   "metadata": {},
   "outputs": [
    {
     "name": "stdout",
     "output_type": "stream",
     "text": [
      "Found 14630 images belonging to 3 classes.\n",
      "Found 1500 images belonging to 3 classes.\n"
     ]
    }
   ],
   "source": [
    "train_data=train_gen.flow_from_directory('dataset_3/train',target_size=(64,64),batch_size=64,class_mode='categorical')\n",
    "\n",
    "test_data=test_gen.flow_from_directory('dataset_3/val',target_size=(64,64),batch_size=64,class_mode='categorical')"
   ]
  },
  {
   "cell_type": "code",
   "execution_count": null,
   "id": "9a500267",
   "metadata": {},
   "outputs": [
    {
     "name": "stderr",
     "output_type": "stream",
     "text": [
      "C:\\Users\\hp\\AppData\\Local\\Temp\\ipykernel_996\\1700067437.py:2: UserWarning: `Model.fit_generator` is deprecated and will be removed in a future version. Please use `Model.fit`, which supports generators.\n",
      "  model.fit_generator(train_data,steps_per_epoch=200,epochs=40,validation_data=test_data)\n"
     ]
    },
    {
     "name": "stdout",
     "output_type": "stream",
     "text": [
      "Epoch 1/40\n",
      "200/200 [==============================] - 204s 1s/step - loss: 0.9361 - accuracy: 0.5594 - val_loss: 0.8231 - val_accuracy: 0.6233\n",
      "Epoch 2/40\n",
      "200/200 [==============================] - 122s 608ms/step - loss: 0.7911 - accuracy: 0.6327 - val_loss: 0.7442 - val_accuracy: 0.6367\n",
      "Epoch 3/40\n",
      "200/200 [==============================] - 108s 542ms/step - loss: 0.7248 - accuracy: 0.6430 - val_loss: 0.7150 - val_accuracy: 0.6273\n",
      "Epoch 4/40\n",
      "200/200 [==============================] - 112s 559ms/step - loss: 0.6805 - accuracy: 0.6478 - val_loss: 0.6703 - val_accuracy: 0.6333\n",
      "Epoch 5/40\n",
      "200/200 [==============================] - 111s 556ms/step - loss: 0.6522 - accuracy: 0.6451 - val_loss: 0.6442 - val_accuracy: 0.6427\n",
      "Epoch 6/40\n",
      "200/200 [==============================] - 110s 551ms/step - loss: 0.6330 - accuracy: 0.6444 - val_loss: 0.6325 - val_accuracy: 0.6413\n",
      "Epoch 7/40\n",
      "200/200 [==============================] - 115s 573ms/step - loss: 0.6134 - accuracy: 0.6513 - val_loss: 0.6139 - val_accuracy: 0.6413\n",
      "Epoch 8/40\n",
      "200/200 [==============================] - 113s 564ms/step - loss: 0.6140 - accuracy: 0.6484 - val_loss: 0.6078 - val_accuracy: 0.6427\n",
      "Epoch 9/40\n",
      "200/200 [==============================] - 112s 558ms/step - loss: 0.5174 - accuracy: 0.8440 - val_loss: 0.4273 - val_accuracy: 0.9107\n",
      "Epoch 10/40\n",
      "200/200 [==============================] - 118s 591ms/step - loss: 0.3693 - accuracy: 0.9182 - val_loss: 0.3217 - val_accuracy: 0.9300\n",
      "Epoch 11/40\n",
      "200/200 [==============================] - 114s 570ms/step - loss: 0.3134 - accuracy: 0.9205 - val_loss: 0.2725 - val_accuracy: 0.9380\n",
      "Epoch 12/40\n",
      "200/200 [==============================] - 106s 529ms/step - loss: 0.2742 - accuracy: 0.9295 - val_loss: 0.2789 - val_accuracy: 0.9307\n",
      "Epoch 13/40\n",
      "200/200 [==============================] - 107s 534ms/step - loss: 0.2418 - accuracy: 0.9383 - val_loss: 0.2670 - val_accuracy: 0.9273\n",
      "Epoch 14/40\n",
      "200/200 [==============================] - 108s 538ms/step - loss: 0.2204 - accuracy: 0.9433 - val_loss: 0.2195 - val_accuracy: 0.9473\n",
      "Epoch 15/40\n",
      "200/200 [==============================] - 107s 533ms/step - loss: 0.2022 - accuracy: 0.9462 - val_loss: 0.2530 - val_accuracy: 0.9267\n",
      "Epoch 16/40\n",
      "200/200 [==============================] - 108s 539ms/step - loss: 0.1872 - accuracy: 0.9493 - val_loss: 0.2268 - val_accuracy: 0.9380\n",
      "Epoch 17/40\n",
      "200/200 [==============================] - 111s 555ms/step - loss: 0.1716 - accuracy: 0.9540 - val_loss: 0.2066 - val_accuracy: 0.9420\n",
      "Epoch 18/40\n",
      "200/200 [==============================] - 108s 540ms/step - loss: 0.1613 - accuracy: 0.9553 - val_loss: 0.2372 - val_accuracy: 0.9347\n",
      "Epoch 19/40\n",
      "200/200 [==============================] - 113s 564ms/step - loss: 0.1546 - accuracy: 0.9541 - val_loss: 0.2360 - val_accuracy: 0.9307\n",
      "Epoch 20/40\n",
      "200/200 [==============================] - 135s 675ms/step - loss: 0.1434 - accuracy: 0.9589 - val_loss: 0.2123 - val_accuracy: 0.9393\n",
      "Epoch 21/40\n",
      "200/200 [==============================] - 114s 567ms/step - loss: 0.1316 - accuracy: 0.9647 - val_loss: 0.1959 - val_accuracy: 0.9400\n",
      "Epoch 22/40\n",
      "200/200 [==============================] - 108s 539ms/step - loss: 0.1266 - accuracy: 0.9641 - val_loss: 0.1777 - val_accuracy: 0.9500\n",
      "Epoch 23/40\n",
      "200/200 [==============================] - 107s 535ms/step - loss: 0.1273 - accuracy: 0.9628 - val_loss: 0.1628 - val_accuracy: 0.9540\n",
      "Epoch 24/40\n",
      "200/200 [==============================] - 111s 555ms/step - loss: 0.1167 - accuracy: 0.9674 - val_loss: 0.1626 - val_accuracy: 0.9520\n",
      "Epoch 25/40\n",
      "200/200 [==============================] - 110s 548ms/step - loss: 0.1100 - accuracy: 0.9681 - val_loss: 0.1644 - val_accuracy: 0.9547\n",
      "Epoch 26/40\n",
      "200/200 [==============================] - 108s 537ms/step - loss: 0.1024 - accuracy: 0.9702 - val_loss: 0.1711 - val_accuracy: 0.9540\n",
      "Epoch 27/40\n",
      "200/200 [==============================] - 107s 536ms/step - loss: 0.1029 - accuracy: 0.9700 - val_loss: 0.1918 - val_accuracy: 0.9433\n",
      "Epoch 28/40\n",
      "200/200 [==============================] - 107s 535ms/step - loss: 0.0927 - accuracy: 0.9729 - val_loss: 0.1638 - val_accuracy: 0.9507\n",
      "Epoch 29/40\n",
      "200/200 [==============================] - 107s 533ms/step - loss: 0.0853 - accuracy: 0.9755 - val_loss: 0.1948 - val_accuracy: 0.9393\n",
      "Epoch 30/40\n",
      "200/200 [==============================] - 106s 528ms/step - loss: 0.0862 - accuracy: 0.9741 - val_loss: 0.1818 - val_accuracy: 0.9473\n",
      "Epoch 31/40\n",
      "200/200 [==============================] - 103s 514ms/step - loss: 0.0887 - accuracy: 0.9717 - val_loss: 0.1578 - val_accuracy: 0.9567\n",
      "Epoch 32/40\n",
      "200/200 [==============================] - 103s 516ms/step - loss: 0.0781 - accuracy: 0.9769 - val_loss: 0.2596 - val_accuracy: 0.9267\n",
      "Epoch 33/40\n",
      "200/200 [==============================] - 110s 549ms/step - loss: 0.0815 - accuracy: 0.9746 - val_loss: 0.1684 - val_accuracy: 0.9487\n",
      "Epoch 34/40\n",
      "200/200 [==============================] - 117s 583ms/step - loss: 0.0806 - accuracy: 0.9748 - val_loss: 0.1873 - val_accuracy: 0.9507\n",
      "Epoch 35/40\n",
      "200/200 [==============================] - 116s 580ms/step - loss: 0.0767 - accuracy: 0.9763 - val_loss: 0.1503 - val_accuracy: 0.9613\n",
      "Epoch 36/40\n",
      "200/200 [==============================] - 136s 678ms/step - loss: 0.0698 - accuracy: 0.9782 - val_loss: 0.1431 - val_accuracy: 0.9593\n",
      "Epoch 37/40\n",
      "200/200 [==============================] - 114s 571ms/step - loss: 0.0704 - accuracy: 0.9786 - val_loss: 0.1754 - val_accuracy: 0.9493\n",
      "Epoch 38/40\n",
      "200/200 [==============================] - 112s 558ms/step - loss: 0.0596 - accuracy: 0.9826 - val_loss: 0.1448 - val_accuracy: 0.9573\n",
      "Epoch 39/40\n",
      "200/200 [==============================] - 112s 557ms/step - loss: 0.0576 - accuracy: 0.9822 - val_loss: 0.1545 - val_accuracy: 0.9613\n",
      "Epoch 40/40\n",
      "188/200 [===========================>..] - ETA: 6s - loss: 0.0621 - accuracy: 0.9808"
     ]
    }
   ],
   "source": [
    "#fit CNN to training set and test it on test set\n",
    "model.fit_generator(train_data,steps_per_epoch=200,epochs=40,validation_data=test_data)"
   ]
  },
  {
   "cell_type": "code",
   "execution_count": null,
   "id": "fac62d63",
   "metadata": {},
   "outputs": [],
   "source": []
  }
 ],
 "metadata": {
  "kernelspec": {
   "display_name": "Python 3 (ipykernel)",
   "language": "python",
   "name": "python3"
  },
  "language_info": {
   "codemirror_mode": {
    "name": "ipython",
    "version": 3
   },
   "file_extension": ".py",
   "mimetype": "text/x-python",
   "name": "python",
   "nbconvert_exporter": "python",
   "pygments_lexer": "ipython3",
   "version": "3.9.10"
  }
 },
 "nbformat": 4,
 "nbformat_minor": 5
}
